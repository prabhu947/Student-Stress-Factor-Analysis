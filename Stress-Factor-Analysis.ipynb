{
 "cells": [
  {
   "cell_type": "code",
   "execution_count": null,
   "id": "40579d5d",
   "metadata": {},
   "outputs": [],
   "source": [
    "import pandas as pd\n",
    "import numpy as np\n",
    "import matplotlib.pyplot as plt\n",
    "import seaborn as sns\n",
    "from sklearn.preprocessing import StandardScaler, OneHotEncoder\n",
    "from sklearn.decomposition import PCA\n",
    "from sklearn.cluster import KMeans\n",
    "from sklearn.tree import DecisionTreeClassifier\n",
    "from sklearn.ensemble import RandomForestClassifier\n",
    "from sklearn.model_selection import train_test_split, GridSearchCV\n",
    "from sklearn.metrics import classification_report, confusion_matrix\n",
    "\n",
    "# remove warnings\n",
    "import warnings\n",
    "warnings.filterwarnings(\"ignore\")"
   ]
  },
  {
   "cell_type": "code",
   "execution_count": null,
   "id": "b98fb20e",
   "metadata": {},
   "outputs": [],
   "source": [
    "myd = pd.read_csv(\"/kaggle/input/student-stress-factors-a-comprehensive-analysis/StressLevelDataset.csv\")\n",
    "\n",
    "# Display the first 5 rows of the data\n",
    "myd.head()"
   ]
  },
  {
   "cell_type": "code",
   "execution_count": null,
   "id": "6261efa3",
   "metadata": {},
   "outputs": [],
   "source": [
    "# Check for missing values\n",
    "print(myd.isnull().sum())"
   ]
  },
  {
   "cell_type": "code",
   "execution_count": null,
   "id": "1680b7d3",
   "metadata": {},
   "outputs": [],
   "source": [
    "# Bar charts for all columns\n",
    "plt.figure(figsize=(12, 20)) \n",
    "\n",
    "for i, column in enumerate(myd.columns, 1):\n",
    "    plt.subplot(7, 3, i)\n",
    "    sns.countplot(x=column, data=myd, palette='Blues_d')\n",
    "    plt.xticks(rotation=45)\n",
    "    plt.title(column)\n",
    "\n",
    "plt.tight_layout()\n",
    "plt.show()"
   ]
  },
  {
   "cell_type": "code",
   "execution_count": null,
   "id": "9b88b020",
   "metadata": {},
   "outputs": [],
   "source": [
    "# Box plots for all columns\n",
    "\n",
    "plt.figure(figsize= (12,8))\n",
    "sns.boxplot(data=myd, orient='h', color='silver')\n",
    "plt.title('Boxplot of all columns')\n",
    "plt.show()"
   ]
  },
  {
   "cell_type": "code",
   "execution_count": null,
   "id": "07175a77",
   "metadata": {},
   "outputs": [],
   "source": [
    "# Percentage of students with mental health history\n",
    "mental_health_history = myd['mental_health_history'].value_counts(normalize=True) * 100\n",
    "print('Percentage of students with mental health history:', mental_health_history[1])"
   ]
  },
  {
   "cell_type": "code",
   "execution_count": null,
   "id": "ab253baa",
   "metadata": {},
   "outputs": [],
   "source": [
    "# Correlation matrix\n",
    "plt.figure(figsize=(12, 10))\n",
    "sns.heatmap(myd.corr(), annot=True, cmap='coolwarm')\n",
    "plt.title('Correlation Matrix')\n",
    "plt.show()"
   ]
  },
  {
   "cell_type": "code",
   "execution_count": null,
   "id": "234bfd18",
   "metadata": {},
   "outputs": [],
   "source": [
    "# Correlation heat map only stress level \n",
    "correlation = myd.corr()\n",
    "correlation_stress = correlation['stress_level'].sort_values(ascending=False)\n",
    "correlation_stress = correlation_stress.drop('stress_level')\n",
    "plt.figure(figsize=(8, 6))\n",
    "sns.heatmap(correlation_stress.to_frame(), annot=True, cmap='coolwarm')\n",
    "plt.title('Correlation of Features with Stress Level')\n",
    "plt.show()"
   ]
  },
  {
   "cell_type": "code",
   "execution_count": null,
   "id": "5d43d0f3",
   "metadata": {},
   "outputs": [],
   "source": [
    "# Average score for each stress level\n",
    "average_stress = myd.groupby('stress_level').mean()\n",
    "average_stress"
   ]
  },
  {
   "cell_type": "code",
   "execution_count": null,
   "id": "9bb64bab",
   "metadata": {},
   "outputs": [],
   "source": [
    "# Average stress level\n",
    "average_stress_level = myd['stress_level'].mean()\n",
    "print('Average Stress Level:', average_stress_level)\n",
    "\n",
    "# Percentage breakdown of stress levels pie chart\n",
    "myd['stress_level'].value_counts().plot.pie(autopct='%1.1f%%', startangle=90, colors=['#ff9999','#66b3ff','#99ff99'])\n",
    "plt.title('Percentage Breakdown of Stress Levels')\n",
    "plt.ylabel('')\n",
    "plt.show() "
   ]
  },
  {
   "cell_type": "code",
   "execution_count": null,
   "id": "51ec08c2",
   "metadata": {},
   "outputs": [],
   "source": [
    "# Split the data into features and target\n",
    "X = myd.drop('stress_level', axis=1)\n",
    "y = myd['stress_level']"
   ]
  },
  {
   "cell_type": "code",
   "execution_count": null,
   "id": "e3f42ad2",
   "metadata": {},
   "outputs": [],
   "source": [
    "# Standardize the data\n",
    "scaler = StandardScaler()\n",
    "X_scaled = scaler.fit_transform(X)"
   ]
  },
  {
   "cell_type": "code",
   "execution_count": null,
   "id": "6483b0b1",
   "metadata": {},
   "outputs": [],
   "source": [
    "# Scree plot\n",
    "pca = PCA()\n",
    "pca.fit(X_scaled)\n",
    "plt.figure(figsize=(10, 6))\n",
    "plt.plot(range(1, len(pca.explained_variance_ratio_) + 1), pca.explained_variance_ratio_, marker='o')\n",
    "plt.title('Scree Plot')\n",
    "plt.xlabel('Number of Components')\n",
    "plt.ylabel('Explained Variance')\n",
    "plt.show()"
   ]
  },
  {
   "cell_type": "code",
   "execution_count": null,
   "id": "03cd26e8",
   "metadata": {},
   "outputs": [],
   "source": [
    "# 2 components explain most of the variance\n",
    "\n",
    "# Fit PCA with 2 components\n",
    "pca = PCA(n_components=2)\n",
    "X_pca = pca.fit_transform(X_scaled)\n",
    "\n",
    "# Plot PCA representation\n",
    "plt.figure(figsize=(10, 6))\n",
    "sns.scatterplot(x=X_pca[:, 0], y=X_pca[:, 1], hue=y, palette='crest') #cividis\n",
    "plt.title('PCA Representation')\n",
    "plt.xlabel('Principal Component 1')\n",
    "plt.ylabel('Principal Component 2')\n",
    "plt.show()"
   ]
  },
  {
   "cell_type": "code",
   "execution_count": null,
   "id": "4ecbb2af",
   "metadata": {},
   "outputs": [],
   "source": [
    "# Explained Variance Ratio\n",
    "explained_variance_ratio = pca.explained_variance_ratio_\n",
    "print(\"Explained Variance Ratio:\", explained_variance_ratio)\n",
    "\n",
    "# Total variance explained\n",
    "total_variance_explained = np.sum(explained_variance_ratio)\n",
    "print(\"Total Variance Explained:\", total_variance_explained)"
   ]
  },
  {
   "cell_type": "code",
   "execution_count": null,
   "id": "32f14c2d",
   "metadata": {},
   "outputs": [],
   "source": [
    "# Access loading coefficients for all variables\n",
    "loadings = pca.components_\n",
    "\n",
    "# DataFrame to display loadings\n",
    "loadings_df = pd.DataFrame(loadings.T, columns=['PC1', 'PC2'], index=X.columns)\n",
    "\n",
    "print(\"Loadings for all variables in relation to Principal Components:\")\n",
    "print(loadings_df)"
   ]
  },
  {
   "cell_type": "code",
   "execution_count": null,
   "id": "c7793eaa",
   "metadata": {},
   "outputs": [],
   "source": [
    "# Correlation Loadings between original variables and principal components\n",
    "correlation_loadings = pca.components_.T * np.sqrt(pca.explained_variance_)\n",
    "correlation_loadings_df = pd.DataFrame(correlation_loadings, columns=['PC1', 'PC2'], index=X.columns)\n",
    "\n",
    "\n",
    "# cutoff threshold for correlation loadings\n",
    "cutoff = 0.5  \n",
    "\n",
    "# Filtering the data frame to only include values above cutoff\n",
    "significant_correlation_loadings_df = correlation_loadings_df.where(\n",
    "    lambda x: abs(x) > cutoff).dropna(how='all').fillna('')\n",
    "\n",
    "print(\"Significant Correlation Loadings for all variables in relation to Principal Components:\")\n",
    "print(significant_correlation_loadings_df)"
   ]
  },
  {
   "cell_type": "code",
   "execution_count": null,
   "id": "07f2cb1e",
   "metadata": {},
   "outputs": [],
   "source": [
    "# Determine the optimal number of clusters using the elbow method\n",
    "wcss = []\n",
    "max_clusters = 10\n",
    "for i in range(1, max_clusters + 1):\n",
    "    kmeans = KMeans(n_clusters=i, init='k-means++', random_state=42)\n",
    "    kmeans.fit(X_pca)\n",
    "    wcss.append(kmeans.inertia_)\n",
    "\n",
    "plt.figure(figsize=(10, 6))\n",
    "plt.plot(range(1, 11), wcss, marker='o')\n",
    "plt.title('Elbow Method')\n",
    "plt.xlabel('Number of Clusters')\n",
    "plt.ylabel('WCSS')\n",
    "plt.show()"
   ]
  },
  {
   "cell_type": "code",
   "execution_count": null,
   "id": "177d8e74",
   "metadata": {},
   "outputs": [],
   "source": [
    "from sklearn.metrics import silhouette_score\n",
    "import numpy as np\n",
    "import matplotlib.pyplot as plt\n",
    "\n",
    "# Initialize a list to store silhouette scores for different numbers of clusters\n",
    "silhouette_scores = []\n",
    "\n",
    "# Specify the range of clusters to try\n",
    "max_clusters = 10\n",
    "for n_clusters in range(2, max_clusters + 1):\n",
    "    # Initialize KMeans with n_clusters\n",
    "    kmeans = KMeans(n_clusters=n_clusters, random_state=42)\n",
    "    cluster_labels = kmeans.fit_predict(X_pca)\n",
    "    \n",
    "    # Compute silhouette score\n",
    "    silhouette_avg = silhouette_score(X_pca, cluster_labels)\n",
    "    silhouette_scores.append(silhouette_avg)\n",
    "\n",
    "# Plot silhouette scores\n",
    "plt.plot(range(2, max_clusters + 1), silhouette_scores, marker='o', linestyle='-')\n",
    "plt.title('Silhouette Method')\n",
    "plt.xlabel('Number of Clusters')\n",
    "plt.ylabel('Silhouette Score')\n",
    "plt.show()\n",
    "\n",
    "# Find the optimal number of clusters\n",
    "optimal_num_clusters = np.argmax(silhouette_scores) + 2  # Adding 2 because we started from 2 clusters\n",
    "print(\"Optimal number of clusters:\", optimal_num_clusters)"
   ]
  },
  {
   "cell_type": "code",
   "execution_count": null,
   "id": "e028f135",
   "metadata": {},
   "outputs": [],
   "source": [
    "# KMeans clustering\n",
    "kmeans = KMeans(n_clusters=4, init='k-means++', random_state=42)\n",
    "kmeans.fit(X_pca)\n",
    "cluster_labels = kmeans.labels_\n",
    "\n",
    "# Add cluster labels to the new DataFrame\n",
    "clustered_data = myd.copy()\n",
    "clustered_data['cluster'] = cluster_labels\n",
    "\n",
    "\n",
    "# Visualize the clusters\n",
    "plt.figure(figsize=(10, 6))\n",
    "plt.scatter(X_pca[:, 0], X_pca[:, 1], c=cluster_labels, cmap='crest', s=50, alpha=0.5)\n",
    "plt.title('KMeans Clustering')\n",
    "plt.xlabel('Principal Component 1')\n",
    "plt.ylabel('Principal Component 2')\n",
    "plt.show()"
   ]
  },
  {
   "cell_type": "code",
   "execution_count": null,
   "id": "29af2c33",
   "metadata": {},
   "outputs": [],
   "source": [
    "# Examine the clusters means\n",
    "clustered_data.groupby('cluster').mean()"
   ]
  },
  {
   "cell_type": "code",
   "execution_count": null,
   "id": "8694bed1",
   "metadata": {},
   "outputs": [],
   "source": [
    "# cluster size\n",
    "cluster_sizes = clustered_data['cluster'].value_counts()\n",
    "cluster_sizes"
   ]
  },
  {
   "cell_type": "code",
   "execution_count": null,
   "id": "2fd744d9",
   "metadata": {},
   "outputs": [],
   "source": [
    "# Decision Tree Classifier\n",
    "X_train, X_test, y_train, y_test = train_test_split(X_scaled, y, test_size=0.2, random_state=42)\n",
    "\n",
    "dt = DecisionTreeClassifier(random_state=42)\n",
    "dt.fit(X_train, y_train)\n",
    "y_pred = dt.predict(X_test)\n",
    "\n",
    "print(classification_report(y_test, y_pred))"
   ]
  },
  {
   "cell_type": "code",
   "execution_count": null,
   "id": "8e3bbf49",
   "metadata": {},
   "outputs": [],
   "source": []
  }
 ],
 "metadata": {
  "kernelspec": {
   "display_name": "Python 3 (ipykernel)",
   "language": "python",
   "name": "python3"
  },
  "language_info": {
   "codemirror_mode": {
    "name": "ipython",
    "version": 3
   },
   "file_extension": ".py",
   "mimetype": "text/x-python",
   "name": "python",
   "nbconvert_exporter": "python",
   "pygments_lexer": "ipython3",
   "version": "3.10.12"
  }
 },
 "nbformat": 4,
 "nbformat_minor": 5
}
